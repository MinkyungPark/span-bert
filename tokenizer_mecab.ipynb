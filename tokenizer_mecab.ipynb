{
 "cells": [
  {
   "cell_type": "markdown",
   "id": "79cadbb8-4b23-4224-b463-700232150dd7",
   "metadata": {},
   "source": [
    "### make corpus"
   ]
  },
  {
   "cell_type": "code",
   "execution_count": 3,
   "id": "9af872c7-5320-459b-97c7-7b3c3e606e28",
   "metadata": {},
   "outputs": [],
   "source": [
    "from dbConn.mongo_conn import config\n",
    "\n",
    "conn = config()\n",
    "col = conn['travel_ai'].blog_contents_ner\n",
    "\n",
    "cleaned_content = col.find({'cleaned_content': {'$exists':True, '$ne': []}}, {'cleaned_content': 1})"
   ]
  },
  {
   "cell_type": "code",
   "execution_count": 4,
   "id": "5e2d965f-48d9-4139-b625-979ff79b11f3",
   "metadata": {},
   "outputs": [
    {
     "name": "stderr",
     "output_type": "stream",
     "text": [
      "5594986it [02:04, 45070.46it/s]\n"
     ]
    }
   ],
   "source": [
    "%%time\n",
    "input_f = \"./data/preprocessed_corpus.txt\"\n",
    "f = open(input_f, \"w\")\n",
    "for cont in cleaned_content:\n",
    "    docs = [c for c in cont['cleaned_content'] if c]\n",
    "    f.write('\\n'.join(docs))\n",
    "del cleaned_content\n",
    "\n",
    "f.close()\n",
    "conn.close()"
   ]
  },
  {
   "cell_type": "code",
   "execution_count": 5,
   "id": "8b235e8e-7333-48a4-8325-f5c500998c55",
   "metadata": {},
   "outputs": [
    {
     "data": {
      "text/plain": [
       "65543688"
      ]
     },
     "execution_count": 5,
     "metadata": {},
     "output_type": "execute_result"
    }
   ],
   "source": [
    "with open(\"./data/preprocessed_corpus.txt\") as f:\n",
    "    lines = f.readlines()\n",
    "len(lines)"
   ]
  },
  {
   "cell_type": "markdown",
   "id": "464bb007-59bf-4b87-8835-1c6408291c19",
   "metadata": {},
   "source": [
    "### Tokenizer"
   ]
  },
  {
   "cell_type": "code",
   "execution_count": 2,
   "id": "6b524fbe-783c-48da-84c3-7a6da1bcfb1c",
   "metadata": {},
   "outputs": [],
   "source": [
    "train_corpus = \"./data/preprocessed_corpus.txt\""
   ]
  },
  {
   "cell_type": "code",
   "execution_count": 3,
   "id": "db6f488e-43d1-47a1-a8d1-eb5fcd610f46",
   "metadata": {},
   "outputs": [
    {
     "name": "stderr",
     "output_type": "stream",
     "text": [
      "Initialize alphabet 1/1: 100%|██████████| 60201262/60201262 [08:10<00:00, 122677.54it/s]\n",
      "Train vocab 1/1: 100%|██████████| 60201262/60201262 [2:58:18<00:00, 5627.20it/s]  \n"
     ]
    },
    {
     "name": "stdout",
     "output_type": "stream",
     "text": [
      "[/workspace/travel_ai/tokenizer/konlpy_tokenizer/vocab.txt]\n"
     ]
    }
   ],
   "source": [
    "from konlpy.tag import Mecab\n",
    "from huggingface_konlpy.tokenizers_konlpy import KoNLPyBertWordPieceTrainer\n",
    "\n",
    "mecab_wordpiece_usetag_trainer = KoNLPyBertWordPieceTrainer(\n",
    "    Mecab(), use_tag=True)\n",
    "mecab_wordpiece_usetag_trainer.train(\n",
    "    files=[train_corpus], vocab_size=150000)\n",
    "mecab_wordpiece_usetag_trainer.save_model('./tokenizer/konlpy_tokenizer')"
   ]
  },
  {
   "cell_type": "code",
   "execution_count": 4,
   "id": "b3134b5f-db15-405a-9a47-2422e2f5dee8",
   "metadata": {},
   "outputs": [],
   "source": [
    "from huggingface_konlpy.transformers_konlpy import KoNLPyBertTokenizer\n",
    "from huggingface_konlpy.tokenizers_konlpy import KoNLPyWordPieceTokenizer"
   ]
  },
  {
   "cell_type": "code",
   "execution_count": 5,
   "id": "03928743-3290-48b2-b6e5-93c0deb1ec5d",
   "metadata": {},
   "outputs": [],
   "source": [
    "mecab_bert_usetag = KoNLPyBertTokenizer(\n",
    "    konlpy_wordpiece = KoNLPyWordPieceTokenizer(Mecab(), use_tag=True),\n",
    "    vocab_file = './tokenizer/konlpy_tokenizer/vocab.txt'\n",
    ")"
   ]
  },
  {
   "cell_type": "code",
   "execution_count": 8,
   "id": "f371a854-f367-404e-b883-63aef4e6f61b",
   "metadata": {},
   "outputs": [
    {
     "data": {
      "text/plain": [
       "['하우스/NNP',\n",
       " '블/NNG',\n",
       " '##렌/NNG',\n",
       " '##드/NNG',\n",
       " '진하/VA',\n",
       " '##고/EC',\n",
       " '깔끔/XR',\n",
       " '##하/XSA',\n",
       " '##게/EC',\n",
       " '균형/NNG',\n",
       " '##잡힌/VV+ETM',\n",
       " '##맛/NNG',\n",
       " '##보헤미안/NNG',\n",
       " '##의/NNG',\n",
       " '대표/NNG',\n",
       " '시그/NNP',\n",
       " '##니/VCP+EC',\n",
       " '##처/NNG',\n",
       " '##커피/NNG',\n",
       " '##이/VCP',\n",
       " '커피/NNG',\n",
       " '##는/JX',\n",
       " '뜨거운/VA+ETM',\n",
       " '##커피/NNG',\n",
       " '##로/JKB',\n",
       " '##만/JX',\n",
       " '마실/NNG',\n",
       " '수/NNG',\n",
       " '있/VA',\n",
       " '##더라구요/EF',\n",
       " '##예쁜/VA+ETM',\n",
       " '커피/NNG',\n",
       " '##잔/NNG',\n",
       " '##에/JKB',\n",
       " '나오/VV',\n",
       " '##니/EC',\n",
       " '뭔가/NP+VCP+EC',\n",
       " '더/MAG',\n",
       " '고급/NNG',\n",
       " '##진/XSV+EC+JX',\n",
       " '느낌/NNG',\n",
       " '##이/JKS',\n",
       " '##들/VV',\n",
       " '##어요/EF']"
      ]
     },
     "execution_count": 8,
     "metadata": {},
     "output_type": "execute_result"
    }
   ],
   "source": [
    "test_sent = \"하우스 블렌드 진하고 깔끔하게 균형잡힌맛보헤미안의 대표 시그니처커피이 커피는 뜨거운커피로만 마실 수 있더라구요예쁜 커피잔에 나오니 뭔가 더 고급진 느낌이들어요\"\n",
    "mecab_bert_usetag.tokenize(test_sent)"
   ]
  },
  {
   "cell_type": "code",
   "execution_count": null,
   "id": "ca2d7596-8b98-4301-8d93-d2a9aa847565",
   "metadata": {},
   "outputs": [],
   "source": [
    "from konlpy.tag import Mecab\n",
    "m = Mecab()\n",
    "\n",
    "\n",
    "f = open(input_f, \"r\")\n",
    "\n",
    "output_tokens = ['[PAD]', '[UNK]', '[CLS]', '[SEP]', '[MASK]']\n",
    "line = None\n",
    "while line != ' ':\n",
    "    line = f.readline().strip()\n",
    "    for l in line.split():\n",
    "        count = 0\n",
    "        for token in m.morphs(l):\n",
    "            tk = token\n",
    "            if count > 0:\n",
    "                tk = '##' + tk\n",
    "                if tk not in output_tokens:\n",
    "                    output_tokens.append(tk)\n",
    "            else:\n",
    "                count += 1\n",
    "                if tk not in output_tokens:\n",
    "                    output_tokens.append(tk)\n",
    "\n",
    "f.close()"
   ]
  },
  {
   "cell_type": "code",
   "execution_count": null,
   "id": "22795aba-8128-4bd2-af13-9a4e505282d5",
   "metadata": {},
   "outputs": [],
   "source": [
    "voca_file = open(\"/mecab_tokenizer/vocab.txt\", 'w')\n",
    "\n",
    "for token in output_tokens:\n",
    "    voca_file.write(token + '\\n')\n",
    "\n",
    "voca_file.close()"
   ]
  },
  {
   "cell_type": "code",
   "execution_count": null,
   "id": "86fcc394-079c-45a8-9b34-5002942b8bdc",
   "metadata": {},
   "outputs": [],
   "source": [
    "output_tokens[5:10]"
   ]
  }
 ],
 "metadata": {
  "kernelspec": {
   "display_name": "Python 3",
   "language": "python",
   "name": "python3"
  },
  "language_info": {
   "codemirror_mode": {
    "name": "ipython",
    "version": 3
   },
   "file_extension": ".py",
   "mimetype": "text/x-python",
   "name": "python",
   "nbconvert_exporter": "python",
   "pygments_lexer": "ipython3",
   "version": "3.9.5"
  }
 },
 "nbformat": 4,
 "nbformat_minor": 5
}
