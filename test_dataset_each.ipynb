{
 "cells": [
  {
   "cell_type": "code",
   "execution_count": 1,
   "id": "27764586-eea3-4022-aa01-8b47f145467c",
   "metadata": {},
   "outputs": [],
   "source": [
    "from dbConn.mongo_conn import config\n",
    "\n",
    "conn = config()\n",
    "col = conn['travel_ai'].blog_contents"
   ]
  },
  {
   "cell_type": "code",
   "execution_count": 2,
   "id": "b068842d-d4fc-43dd-9a37-0a47cfefcc17",
   "metadata": {},
   "outputs": [],
   "source": [
    "all_contents = list(col.find({'num_docs': {'$gte': 10, '$lte':100}}, {'cleaned_content': 1, 'custom_category': 1}))"
   ]
  },
  {
   "cell_type": "code",
   "execution_count": 3,
   "id": "f1d74221-01d7-476d-8d83-3732809bb1ee",
   "metadata": {},
   "outputs": [
    {
     "data": {
      "text/plain": [
       "183918"
      ]
     },
     "execution_count": 3,
     "metadata": {},
     "output_type": "execute_result"
    }
   ],
   "source": [
    "conn.close()\n",
    "len(all_contents)"
   ]
  },
  {
   "cell_type": "code",
   "execution_count": 4,
   "id": "0283dc4b-dfd6-4b22-94b3-d4327926f0ab",
   "metadata": {},
   "outputs": [
    {
     "data": {
      "text/plain": [
       "4951316"
      ]
     },
     "execution_count": 4,
     "metadata": {},
     "output_type": "execute_result"
    }
   ],
   "source": [
    "token_range = []\n",
    "for cont in all_contents:\n",
    "    for sent in cont['cleaned_content']:\n",
    "        num_token = len(' '.join(sent).split())\n",
    "        token_range.append(num_token)\n",
    "len(token_range)"
   ]
  },
  {
   "cell_type": "code",
   "execution_count": 5,
   "id": "b4a80543-6df8-4ec9-b86a-5f3e335de51a",
   "metadata": {},
   "outputs": [
    {
     "name": "stdout",
     "output_type": "stream",
     "text": [
      "Avg Number of token : 39.48304794119382\n",
      "Min Number of token : 1\n",
      "Max Number of token : 7445\n"
     ]
    }
   ],
   "source": [
    "import numpy as np\n",
    "\n",
    "print(f'Avg Number of token : {np.mean(token_range)}')\n",
    "print(f'Min Number of token : {np.min(token_range)}')\n",
    "print(f'Max Number of token : {np.max(token_range)}')"
   ]
  },
  {
   "cell_type": "code",
   "execution_count": 6,
   "id": "e29c78a7-dd6e-44ea-a2d3-abdf59a6338c",
   "metadata": {},
   "outputs": [
    {
     "name": "stderr",
     "output_type": "stream",
     "text": [
      "No artists with labels found to put in legend.  Note that artists whose label start with an underscore are ignored when legend() is called with no argument.\n"
     ]
    },
    {
     "data": {
      "text/plain": [
       "Text(0, 0.5, 'Number of Sentences')"
      ]
     },
     "execution_count": 6,
     "metadata": {},
     "output_type": "execute_result"
    },
    {
     "data": {
      "image/png": "[encoded data removed]",
      "text/plain": [
       "<Figure size 864x360 with 1 Axes>"
      ]
     },
     "metadata": {
      "needs_background": "light"
     },
     "output_type": "display_data"
    }
   ],
   "source": [
    "import matplotlib.pyplot as plt\n",
    "\n",
    "plt.figure(figsize=(12, 5))\n",
    "plt.hist(token_range, bins=50, range=[0,3000], color='g', alpha=0.7, histtype='step')\n",
    "plt.legend()\n",
    "plt.yscale('log')\n",
    "plt.title('Number of Token Log Histogram')\n",
    "plt.xlabel('Number of Tokens')\n",
    "plt.ylabel('Number of Sentences')"
   ]
  },
  {
   "cell_type": "code",
   "execution_count": 6,
   "id": "e21bf399-29e8-41e0-89a1-89846a2b213e",
   "metadata": {},
   "outputs": [
    {
     "name": "stdout",
     "output_type": "stream",
     "text": [
      "8\n"
     ]
    },
    {
     "data": {
      "text/plain": [
       "['명소', '카페', '공원', '음식', '술집', '숙박', '문화예술', '시장']"
      ]
     },
     "execution_count": 6,
     "metadata": {},
     "output_type": "execute_result"
    }
   ],
   "source": [
    "all_category = []\n",
    "for cont in all_contents:\n",
    "    cate = cont['custom_category'][0]\n",
    "    if cate not in all_category:\n",
    "        all_category.append(cate)\n",
    "print(len(all_category))\n",
    "all_category"
   ]
  },
  {
   "cell_type": "code",
   "execution_count": 8,
   "id": "712b80ba-364e-45fe-9638-ef63d119a2ba",
   "metadata": {},
   "outputs": [
    {
     "name": "stdout",
     "output_type": "stream",
     "text": [
      "CPU times: user 3.91 s, sys: 75.8 ms, total: 3.98 s\n",
      "Wall time: 3.98 s\n"
     ]
    },
    {
     "data": {
      "text/plain": [
       "1887567"
      ]
     },
     "execution_count": 8,
     "metadata": {},
     "output_type": "execute_result"
    }
   ],
   "source": [
    "%%time\n",
    "test_dataset = []\n",
    "for cont in all_contents:\n",
    "    for sent in cont['cleaned_content']:\n",
    "        num_token = len(sent.split())\n",
    "        if 10 < num_token < 500:\n",
    "            label = cont['custom_category'][0]\n",
    "            label_number = all_category.index(label)\n",
    "            test_dataset.append((sent, label_number, label))\n",
    "test_dataset = list(set(test_dataset))\n",
    "len(test_dataset)"
   ]
  },
  {
   "cell_type": "code",
   "execution_count": 9,
   "id": "ee429dbd-269d-42bd-8bd9-1d071575bdad",
   "metadata": {},
   "outputs": [
    {
     "data": {
      "text/html": [
       "<div>\n",
       "<style scoped>\n",
       "    .dataframe tbody tr th:only-of-type {\n",
       "        vertical-align: middle;\n",
       "    }\n",
       "\n",
       "    .dataframe tbody tr th {\n",
       "        vertical-align: top;\n",
       "    }\n",
       "\n",
       "    .dataframe thead th {\n",
       "        text-align: right;\n",
       "    }\n",
       "</style>\n",
       "<table border=\"1\" class=\"dataframe\">\n",
       "  <thead>\n",
       "    <tr style=\"text-align: right;\">\n",
       "      <th></th>\n",
       "      <th>sentence</th>\n",
       "      <th>label</th>\n",
       "      <th>category</th>\n",
       "    </tr>\n",
       "  </thead>\n",
       "  <tbody>\n",
       "    <tr>\n",
       "      <th>1887562</th>\n",
       "      <td>그리고 비루개 특징이 모닥불에서 마시멜로우, 쥐포, 고구마를 구울 수 있게 되어있는데요.</td>\n",
       "      <td>1</td>\n",
       "      <td>카페</td>\n",
       "    </tr>\n",
       "    <tr>\n",
       "      <th>1887563</th>\n",
       "      <td>그래서 수분 다 빠질 때까지 안 먹고 기다리기 이제 좀 맛난 볶음밥 같아졌죠?</td>\n",
       "      <td>3</td>\n",
       "      <td>음식</td>\n",
       "    </tr>\n",
       "    <tr>\n",
       "      <th>1887564</th>\n",
       "      <td>와온해변의 이쁜 야경을 볼 수 있고 또 여기서 일몰 기념 인증샷도 남기고 올거에요</td>\n",
       "      <td>5</td>\n",
       "      <td>숙박</td>\n",
       "    </tr>\n",
       "    <tr>\n",
       "      <th>1887565</th>\n",
       "      <td>제가 꿔바로우를 워낙 좋아해서여기서도 하나 시켜본건데요 꿔바로우의 생명인 쫄깃한 식...</td>\n",
       "      <td>3</td>\n",
       "      <td>음식</td>\n",
       "    </tr>\n",
       "    <tr>\n",
       "      <th>1887566</th>\n",
       "      <td>태국식 몽골리안 바베큐? 라이스 라스텔라가 제일 맛난줄알고 그동안 여길 잊고살았는데...</td>\n",
       "      <td>3</td>\n",
       "      <td>음식</td>\n",
       "    </tr>\n",
       "  </tbody>\n",
       "</table>\n",
       "</div>"
      ],
      "text/plain": [
       "                                                  sentence  label category\n",
       "1887562  그리고 비루개 특징이 모닥불에서 마시멜로우, 쥐포, 고구마를 구울 수 있게 되어있는데요.      1       카페\n",
       "1887563        그래서 수분 다 빠질 때까지 안 먹고 기다리기 이제 좀 맛난 볶음밥 같아졌죠?      3       음식\n",
       "1887564      와온해변의 이쁜 야경을 볼 수 있고 또 여기서 일몰 기념 인증샷도 남기고 올거에요      5       숙박\n",
       "1887565  제가 꿔바로우를 워낙 좋아해서여기서도 하나 시켜본건데요 꿔바로우의 생명인 쫄깃한 식...      3       음식\n",
       "1887566  태국식 몽골리안 바베큐? 라이스 라스텔라가 제일 맛난줄알고 그동안 여길 잊고살았는데...      3       음식"
      ]
     },
     "execution_count": 9,
     "metadata": {},
     "output_type": "execute_result"
    }
   ],
   "source": [
    "import pandas as pd\n",
    "\n",
    "df = pd.DataFrame(test_dataset, columns=['sentence', 'label', 'category'])\n",
    "df.tail()"
   ]
  },
  {
   "cell_type": "code",
   "execution_count": 10,
   "id": "6f18a79c-68a1-4d64-ab15-97d96075ca06",
   "metadata": {},
   "outputs": [
    {
     "data": {
      "text/plain": [
       "음식      1006949\n",
       "카페       289712\n",
       "명소       225305\n",
       "숙박       116450\n",
       "술집        97451\n",
       "문화예술      72332\n",
       "공원        50704\n",
       "시장        28664\n",
       "Name: category, dtype: int64"
      ]
     },
     "execution_count": 10,
     "metadata": {},
     "output_type": "execute_result"
    }
   ],
   "source": [
    "df['category'].value_counts()"
   ]
  },
  {
   "cell_type": "code",
   "execution_count": 11,
   "id": "e4117de6-6356-4afb-81c5-600fb647735f",
   "metadata": {},
   "outputs": [],
   "source": [
    "import pickle\n",
    "\n",
    "with open('./test_dataset_each_10_500.pickle', 'wb') as f:\n",
    "    pickle.dump(df, f)"
   ]
  }
 ],
 "metadata": {
  "kernelspec": {
   "display_name": "Python 3",
   "language": "python",
   "name": "python3"
  },
  "language_info": {
   "codemirror_mode": {
    "name": "ipython",
    "version": 3
   },
   "file_extension": ".py",
   "mimetype": "text/x-python",
   "name": "python",
   "nbconvert_exporter": "python",
   "pygments_lexer": "ipython3",
   "version": "3.9.5"
  }
 },
 "nbformat": 4,
 "nbformat_minor": 5
}
